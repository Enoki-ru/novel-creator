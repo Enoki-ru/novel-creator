{
 "cells": [
  {
   "cell_type": "code",
   "execution_count": 70,
   "metadata": {},
   "outputs": [],
   "source": [
    "global lvls\n",
    "global language\n",
    "language='ENG'"
   ]
  },
  {
   "cell_type": "code",
   "execution_count": 71,
   "metadata": {},
   "outputs": [],
   "source": [
    "import sqlite3\n",
    "\n",
    "class Person:\n",
    "    def __init__(self, name, age, lvl, gender):\n",
    "        self.name = name\n",
    "        self.age = age\n",
    "        self.lvl = lvl\n",
    "        self.gender = gender\n",
    "    \n",
    "    def __str__(self):\n",
    "        return f\"{self.name}, {self.age} years old, {self.lvl}, {self.gender}\"\n",
    "    "
   ]
  },
  {
   "cell_type": "code",
   "execution_count": 72,
   "metadata": {},
   "outputs": [
    {
     "data": {
      "text/plain": [
       "Text(0.5, 1.0, 'Распределение Уровней среди 47486 магов')"
      ]
     },
     "execution_count": 72,
     "metadata": {},
     "output_type": "execute_result"
    },
    {
     "data": {
      "image/png": "[encoded data removed]",
      "text/plain": [
       "<Figure size 640x480 with 1 Axes>"
      ]
     },
     "metadata": {},
     "output_type": "display_data"
    }
   ],
   "source": [
    "def sequence(mas): # Выводит последний элемент списка, находящийся внутри последовательности натуральных чисел, состоящих из уникальных чисел\n",
    "       mas=list(set(mas))\n",
    "       mas.sort()\n",
    "       for i in range(len(mas)):\n",
    "              if i!=mas[i]:\n",
    "                     return mas[i-1]\n",
    "       return i\n",
    "\n",
    "import seaborn as sb\n",
    "import matplotlib.pyplot as plt\n",
    "import numpy as np\n",
    "from scipy.stats import expon\n",
    "\n",
    "\n",
    "checker=-1\n",
    "# size_rand=10000\n",
    "size_rand=40000\n",
    "while checker<100:\n",
    "       r = expon.rvs(size=size_rand)*12\n",
    "       lvls=list(map(int,r))\n",
    "       checker=sequence(lvls)\n",
    "       size_rand+=250\n",
    "       # print('------')\n",
    "       # print(max(lvls))\n",
    "\n",
    "def minus100(x):\n",
    "       if x<=100:\n",
    "              return True\n",
    "       else:\n",
    "              return False\n",
    "lvls=[i for i in filter(minus100, lvls)]\n",
    "\n",
    "fig, ax = plt.subplots(1, 1)\n",
    "ax.hist(lvls, density=True, bins='auto')\n",
    "plt.title(f'Распределение Уровней среди {len(lvls)} магов')"
   ]
  },
  {
   "cell_type": "code",
   "execution_count": null,
   "metadata": {},
   "outputs": [],
   "source": []
  },
  {
   "cell_type": "code",
   "execution_count": 73,
   "metadata": {},
   "outputs": [
    {
     "name": "stdout",
     "output_type": "stream",
     "text": [
      "heroes in range from 0 to 10: 26823\n",
      "heroes in range from 10 to 20: 11722\n",
      "heroes in range from 20 to 30: 5080\n",
      "heroes in range from 30 to 40: 2174\n",
      "heroes in range from 40 to 50: 933\n",
      "heroes in range from 50 to 60: 433\n",
      "heroes in range from 60 to 70: 187\n",
      "heroes in range from 70 to 80: 80\n",
      "heroes in range from 80 to 90: 29\n",
      "heroes in range from 90 to 100: 22\n"
     ]
    }
   ],
   "source": [
    "def find_n(x,n=2):\n",
    "    if x>=10*(n-1) and x<10*n:\n",
    "        return True\n",
    "    else:\n",
    "        return False\n",
    "for q in range(1,11):\n",
    "    seqs=[i for i in filter(lambda seq: find_n(seq,n=q), lvls)] #lambda нужна чтобы вставить в вызывающуюся фукнцию дополнительную переменную (обычно filter не позволяет это сделать)\n",
    "    print(f\"heroes in range from {10*(q-1)} to {10*(q)}: {len(seqs)}\")"
   ]
  },
  {
   "cell_type": "code",
   "execution_count": 74,
   "metadata": {},
   "outputs": [],
   "source": [
    "def GeneratorPersons(nums=1,stage=-1):\n",
    "    import random\n",
    "    from pynames import GENDER, LANGUAGE\n",
    "    from pynames.generators.elven import DnDNamesGenerator\n",
    "\n",
    "    elven_generator = DnDNamesGenerator()   \n",
    "\n",
    "\n",
    "    genders=['Male','Female']\n",
    "    ages=[]\n",
    "    weights=[0]*6\n",
    "    mas=[i for i in range(15,20)]\n",
    "    weights[0]=0.1\n",
    "    ages.append(mas)\n",
    "    mas=[i for i in range(20,25)]\n",
    "    weights[1]=0.2\n",
    "    ages.append(mas)\n",
    "    mas=[i for i in range(25,30)]\n",
    "    weights[2]=0.2\n",
    "    ages.append(mas)\n",
    "    mas=[i for i in range(30,35)]\n",
    "    weights[3]=0.3\n",
    "    ages.append(mas)\n",
    "    mas=[i for i in range(35,40)]\n",
    "    weights[4]=0.1\n",
    "    ages.append(mas)\n",
    "    mas=[i for i in range(40,60)]\n",
    "    weights[5]=0.1\n",
    "    ages.append(mas)\n",
    "\n",
    "\n",
    "    data=[]\n",
    "\n",
    "    for c in range(nums):\n",
    "        #GENDER\n",
    "        gender=random.choices(genders, weights=[0.4,0.6],k=1)\n",
    "\n",
    "        #NAME\n",
    "        if gender=='Male':\n",
    "            name=elven_generator.get_name_simple(GENDER.MALE)\n",
    "        else:\n",
    "            name=elven_generator.get_name_simple(GENDER.FEMALE)\n",
    "\n",
    "        #LVL\n",
    "        lvl=random.choice(lvls)\n",
    "\n",
    "        #AGE\n",
    "        age_stage=random.choices(ages, weights=weights,k=1)\n",
    "        age_stage=age_stage[0]\n",
    "        age=random.choice(age_stage)\n",
    "        # Считывание данных и создание объекта Person\n",
    "        person=[name,age,lvl,gender]\n",
    "        data.append(person)\n",
    "        \n",
    "    return data"
   ]
  },
  {
   "cell_type": "code",
   "execution_count": 75,
   "metadata": {},
   "outputs": [],
   "source": [
    "\n",
    "data=[]\n"
   ]
  },
  {
   "cell_type": "code",
   "execution_count": 76,
   "metadata": {},
   "outputs": [],
   "source": [
    "\n",
    "data.append(GeneratorPersons(nums=10000))"
   ]
  },
  {
   "cell_type": "code",
   "execution_count": 77,
   "metadata": {},
   "outputs": [],
   "source": [
    "data=data[0]\n",
    "# print(data)"
   ]
  },
  {
   "cell_type": "code",
   "execution_count": 78,
   "metadata": {},
   "outputs": [],
   "source": [
    "import pandas as pd\n",
    "df=pd.DataFrame(data,columns=['Name','Age','Lvl','Gender'])"
   ]
  },
  {
   "cell_type": "code",
   "execution_count": 79,
   "metadata": {},
   "outputs": [
    {
     "data": {
      "text/html": [
       "<div>\n",
       "<style scoped>\n",
       "    .dataframe tbody tr th:only-of-type {\n",
       "        vertical-align: middle;\n",
       "    }\n",
       "\n",
       "    .dataframe tbody tr th {\n",
       "        vertical-align: top;\n",
       "    }\n",
       "\n",
       "    .dataframe thead th {\n",
       "        text-align: right;\n",
       "    }\n",
       "</style>\n",
       "<table border=\"1\" class=\"dataframe\">\n",
       "  <thead>\n",
       "    <tr style=\"text-align: right;\">\n",
       "      <th></th>\n",
       "      <th>Name</th>\n",
       "      <th>Age</th>\n",
       "      <th>Lvl</th>\n",
       "      <th>Gender</th>\n",
       "    </tr>\n",
       "  </thead>\n",
       "  <tbody>\n",
       "    <tr>\n",
       "      <th>0</th>\n",
       "      <td>Naiaroruil</td>\n",
       "      <td>53</td>\n",
       "      <td>11</td>\n",
       "      <td>Male</td>\n",
       "    </tr>\n",
       "    <tr>\n",
       "      <th>1</th>\n",
       "      <td>Therraeeae</td>\n",
       "      <td>34</td>\n",
       "      <td>5</td>\n",
       "      <td>Female</td>\n",
       "    </tr>\n",
       "    <tr>\n",
       "      <th>2</th>\n",
       "      <td>Solelis</td>\n",
       "      <td>29</td>\n",
       "      <td>12</td>\n",
       "      <td>Male</td>\n",
       "    </tr>\n",
       "    <tr>\n",
       "      <th>3</th>\n",
       "      <td>il'Coraeraten</td>\n",
       "      <td>25</td>\n",
       "      <td>21</td>\n",
       "      <td>Female</td>\n",
       "    </tr>\n",
       "    <tr>\n",
       "      <th>4</th>\n",
       "      <td>iat'Shaoremar</td>\n",
       "      <td>15</td>\n",
       "      <td>8</td>\n",
       "      <td>Male</td>\n",
       "    </tr>\n",
       "    <tr>\n",
       "      <th>5</th>\n",
       "      <td>Vonariadar</td>\n",
       "      <td>30</td>\n",
       "      <td>21</td>\n",
       "      <td>Female</td>\n",
       "    </tr>\n",
       "    <tr>\n",
       "      <th>6</th>\n",
       "      <td>ro'Selualtha</td>\n",
       "      <td>31</td>\n",
       "      <td>3</td>\n",
       "      <td>Female</td>\n",
       "    </tr>\n",
       "    <tr>\n",
       "      <th>7</th>\n",
       "      <td>Vononnallinn</td>\n",
       "      <td>21</td>\n",
       "      <td>5</td>\n",
       "      <td>Female</td>\n",
       "    </tr>\n",
       "    <tr>\n",
       "      <th>8</th>\n",
       "      <td>ki'Lafrailllae</td>\n",
       "      <td>24</td>\n",
       "      <td>6</td>\n",
       "      <td>Male</td>\n",
       "    </tr>\n",
       "    <tr>\n",
       "      <th>9</th>\n",
       "      <td>Selasar</td>\n",
       "      <td>27</td>\n",
       "      <td>35</td>\n",
       "      <td>Male</td>\n",
       "    </tr>\n",
       "  </tbody>\n",
       "</table>\n",
       "</div>"
      ],
      "text/plain": [
       "             Name  Age  Lvl  Gender\n",
       "0      Naiaroruil   53   11    Male\n",
       "1      Therraeeae   34    5  Female\n",
       "2         Solelis   29   12    Male\n",
       "3   il'Coraeraten   25   21  Female\n",
       "4   iat'Shaoremar   15    8    Male\n",
       "5      Vonariadar   30   21  Female\n",
       "6    ro'Selualtha   31    3  Female\n",
       "7    Vononnallinn   21    5  Female\n",
       "8  ki'Lafrailllae   24    6    Male\n",
       "9         Selasar   27   35    Male"
      ]
     },
     "execution_count": 79,
     "metadata": {},
     "output_type": "execute_result"
    }
   ],
   "source": [
    "df"
   ]
  },
  {
   "cell_type": "code",
   "execution_count": 80,
   "metadata": {},
   "outputs": [
    {
     "data": {
      "text/html": [
       "<div>\n",
       "<style scoped>\n",
       "    .dataframe tbody tr th:only-of-type {\n",
       "        vertical-align: middle;\n",
       "    }\n",
       "\n",
       "    .dataframe tbody tr th {\n",
       "        vertical-align: top;\n",
       "    }\n",
       "\n",
       "    .dataframe thead th {\n",
       "        text-align: right;\n",
       "    }\n",
       "</style>\n",
       "<table border=\"1\" class=\"dataframe\">\n",
       "  <thead>\n",
       "    <tr style=\"text-align: right;\">\n",
       "      <th></th>\n",
       "      <th>Name</th>\n",
       "      <th>Age</th>\n",
       "      <th>Lvl</th>\n",
       "      <th>Gender</th>\n",
       "    </tr>\n",
       "  </thead>\n",
       "  <tbody>\n",
       "  </tbody>\n",
       "</table>\n",
       "</div>"
      ],
      "text/plain": [
       "Empty DataFrame\n",
       "Columns: [Name, Age, Lvl, Gender]\n",
       "Index: []"
      ]
     },
     "execution_count": 80,
     "metadata": {},
     "output_type": "execute_result"
    }
   ],
   "source": [
    "df[df.Lvl>80]"
   ]
  }
 ],
 "metadata": {
  "kernelspec": {
   "display_name": "Python 3",
   "language": "python",
   "name": "python3"
  },
  "language_info": {
   "codemirror_mode": {
    "name": "ipython",
    "version": 3
   },
   "file_extension": ".py",
   "mimetype": "text/x-python",
   "name": "python",
   "nbconvert_exporter": "python",
   "pygments_lexer": "ipython3",
   "version": "3.10.5"
  },
  "orig_nbformat": 4
 },
 "nbformat": 4,
 "nbformat_minor": 2
}
