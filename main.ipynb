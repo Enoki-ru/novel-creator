{
 "cells": [
  {
   "cell_type": "code",
   "execution_count": 100,
   "metadata": {},
   "outputs": [],
   "source": [
    "import sqlite3\n",
    "\n",
    "class Person:\n",
    "    def __init__(self, name, age, lvl, gender):\n",
    "        self.name = name\n",
    "        self.age = age\n",
    "        self.lvl = lvl\n",
    "        self.gender = gender\n",
    "    \n",
    "    def __str__(self):\n",
    "        return f\"{self.name}, {self.age} years old, {self.lvl}, {self.gender}\"\n",
    "    "
   ]
  },
  {
   "cell_type": "code",
   "execution_count": 101,
   "metadata": {},
   "outputs": [
    {
     "data": {
      "text/plain": [
       "Text(0.5, 1.0, 'Распределение Уровней среди 48487 магов')"
      ]
     },
     "execution_count": 101,
     "metadata": {},
     "output_type": "execute_result"
    },
    {
     "data": {
      "image/png": "[encoded data removed]",
      "text/plain": [
       "<Figure size 640x480 with 1 Axes>"
      ]
     },
     "metadata": {},
     "output_type": "display_data"
    }
   ],
   "source": [
    "def sequence(mas): # Выводит последний элемент списка, находящийся внутри последовательности натуральных чисел, состоящих из уникальных чисел\n",
    "       mas=list(set(mas))\n",
    "       mas.sort()\n",
    "       for i in range(len(mas)):\n",
    "              if i!=mas[i]:\n",
    "                     return mas[i-1]\n",
    "       return i\n",
    "\n",
    "import seaborn as sb\n",
    "import matplotlib.pyplot as plt\n",
    "import numpy as np\n",
    "from scipy.stats import expon\n",
    "\n",
    "global lvls\n",
    "checker=-1\n",
    "# size_rand=10000\n",
    "size_rand=40000\n",
    "while checker<100:\n",
    "       r = expon.rvs(size=size_rand)*12\n",
    "       lvls=list(map(int,r))\n",
    "       checker=sequence(lvls)\n",
    "       size_rand+=250\n",
    "       # print('------')\n",
    "       # print(max(lvls))\n",
    "\n",
    "def minus100(x):\n",
    "       if x<=100:\n",
    "              return True\n",
    "       else:\n",
    "              return False\n",
    "lvls=[i for i in filter(minus100, lvls)]\n",
    "\n",
    "fig, ax = plt.subplots(1, 1)\n",
    "ax.hist(lvls, density=True, bins='auto')\n",
    "plt.title(f'Распределение Уровней среди {len(lvls)} магов')"
   ]
  },
  {
   "cell_type": "code",
   "execution_count": null,
   "metadata": {},
   "outputs": [],
   "source": []
  },
  {
   "cell_type": "code",
   "execution_count": 102,
   "metadata": {},
   "outputs": [
    {
     "name": "stdout",
     "output_type": "stream",
     "text": [
      "heroes in range from 0 to 10: 27345\n",
      "heroes in range from 10 to 20: 12012\n",
      "heroes in range from 20 to 30: 5174\n",
      "heroes in range from 30 to 40: 2248\n",
      "heroes in range from 40 to 50: 994\n",
      "heroes in range from 50 to 60: 384\n",
      "heroes in range from 60 to 70: 184\n",
      "heroes in range from 70 to 80: 85\n",
      "heroes in range from 80 to 90: 41\n",
      "heroes in range from 90 to 100: 19\n"
     ]
    }
   ],
   "source": [
    "def find_n(x,n=2):\n",
    "    if x>=10*(n-1) and x<10*n:\n",
    "        return True\n",
    "    else:\n",
    "        return False\n",
    "for q in range(1,11):\n",
    "    seqs=[i for i in filter(lambda seq: find_n(seq,n=q), lvls)] #lambda нужна чтобы вставить в вызывающуюся фукнцию дополнительную переменную (обычно filter не позволяет это сделать)\n",
    "    print(f\"heroes in range from {10*(q-1)} to {10*(q)}: {len(seqs)}\")"
   ]
  },
  {
   "cell_type": "code",
   "execution_count": 103,
   "metadata": {},
   "outputs": [],
   "source": [
    "def GeneratorPersons(nums=1,stage=-1):\n",
    "    import random\n",
    "    from pynames import GENDER, LANGUAGE\n",
    "    from pynames.generators.elven import DnDNamesGenerator\n",
    "    elven_generator = DnDNamesGenerator()   \n",
    "    genders=['Male','Female']\n",
    "    ages=[i for i in range(15,40)]\n",
    "    data=[]\n",
    "    for c in range(nums):\n",
    "        #GENDER\n",
    "        gender=random.choice(genders)\n",
    "        #NAME\n",
    "        if gender=='Male':\n",
    "            name=elven_generator.get_name_simple(GENDER.MALE)\n",
    "        else:\n",
    "            name=elven_generator.get_name_simple(GENDER.FEMALE)\n",
    "        #LVL\n",
    "        lvl=random.choice(lvls)\n",
    "\n",
    "        #AGE\n",
    "        age=random.choice(ages)\n",
    "\n",
    "        # Считывание данных и создание объекта Person\n",
    "        person=[name,age,lvl,gender]\n",
    "        data.append(person)\n",
    "        \n",
    "    return data"
   ]
  },
  {
   "cell_type": "code",
   "execution_count": 104,
   "metadata": {},
   "outputs": [],
   "source": [
    "\n",
    "data=[]\n"
   ]
  },
  {
   "cell_type": "code",
   "execution_count": 105,
   "metadata": {},
   "outputs": [],
   "source": [
    "\n",
    "data.append(GeneratorPersons(nums=10))"
   ]
  },
  {
   "cell_type": "code",
   "execution_count": 106,
   "metadata": {},
   "outputs": [
    {
     "name": "stdout",
     "output_type": "stream",
     "text": [
      "[[[\"fel'Sehthilila\", 17, 12, 'Male,Female'], ['Corinlon', 27, 11, 'Male,Female'], [\"is'Raeratriaana\", 15, 32, 'Male,Female'], ['Thernine', 33, 17, 'Male,Female'], ['Lathileath', 31, 8, 'Male,Female'], ['Sumdrimme', 24, 0, 'Male,Female'], ['Thaluthianna', 22, 7, 'Male,Female'], ['Eilali', 19, 2, 'Male,Female'], ['Dulamdar', 16, 84, 'Male,Female'], ['Gaelen', 20, 2, 'Male,Female']]]\n"
     ]
    }
   ],
   "source": [
    "print(data)"
   ]
  },
  {
   "cell_type": "code",
   "execution_count": 111,
   "metadata": {},
   "outputs": [
    {
     "data": {
      "text/html": [
       "<div>\n",
       "<style scoped>\n",
       "    .dataframe tbody tr th:only-of-type {\n",
       "        vertical-align: middle;\n",
       "    }\n",
       "\n",
       "    .dataframe tbody tr th {\n",
       "        vertical-align: top;\n",
       "    }\n",
       "\n",
       "    .dataframe thead th {\n",
       "        text-align: right;\n",
       "    }\n",
       "</style>\n",
       "<table border=\"1\" class=\"dataframe\">\n",
       "  <thead>\n",
       "    <tr style=\"text-align: right;\">\n",
       "      <th></th>\n",
       "      <th>0</th>\n",
       "    </tr>\n",
       "  </thead>\n",
       "  <tbody>\n",
       "    <tr>\n",
       "      <th>0</th>\n",
       "      <td>[fel'Sehthilila, 17, 12, Male,Female]</td>\n",
       "    </tr>\n",
       "    <tr>\n",
       "      <th>1</th>\n",
       "      <td>[Corinlon, 27, 11, Male,Female]</td>\n",
       "    </tr>\n",
       "    <tr>\n",
       "      <th>2</th>\n",
       "      <td>[is'Raeratriaana, 15, 32, Male,Female]</td>\n",
       "    </tr>\n",
       "    <tr>\n",
       "      <th>3</th>\n",
       "      <td>[Thernine, 33, 17, Male,Female]</td>\n",
       "    </tr>\n",
       "    <tr>\n",
       "      <th>4</th>\n",
       "      <td>[Lathileath, 31, 8, Male,Female]</td>\n",
       "    </tr>\n",
       "    <tr>\n",
       "      <th>5</th>\n",
       "      <td>[Sumdrimme, 24, 0, Male,Female]</td>\n",
       "    </tr>\n",
       "    <tr>\n",
       "      <th>6</th>\n",
       "      <td>[Thaluthianna, 22, 7, Male,Female]</td>\n",
       "    </tr>\n",
       "    <tr>\n",
       "      <th>7</th>\n",
       "      <td>[Eilali, 19, 2, Male,Female]</td>\n",
       "    </tr>\n",
       "    <tr>\n",
       "      <th>8</th>\n",
       "      <td>[Dulamdar, 16, 84, Male,Female]</td>\n",
       "    </tr>\n",
       "    <tr>\n",
       "      <th>9</th>\n",
       "      <td>[Gaelen, 20, 2, Male,Female]</td>\n",
       "    </tr>\n",
       "  </tbody>\n",
       "</table>\n",
       "</div>"
      ],
      "text/plain": [
       "                                        0\n",
       "0   [fel'Sehthilila, 17, 12, Male,Female]\n",
       "1         [Corinlon, 27, 11, Male,Female]\n",
       "2  [is'Raeratriaana, 15, 32, Male,Female]\n",
       "3         [Thernine, 33, 17, Male,Female]\n",
       "4        [Lathileath, 31, 8, Male,Female]\n",
       "5         [Sumdrimme, 24, 0, Male,Female]\n",
       "6      [Thaluthianna, 22, 7, Male,Female]\n",
       "7            [Eilali, 19, 2, Male,Female]\n",
       "8         [Dulamdar, 16, 84, Male,Female]\n",
       "9            [Gaelen, 20, 2, Male,Female]"
      ]
     },
     "execution_count": 111,
     "metadata": {},
     "output_type": "execute_result"
    }
   ],
   "source": [
    "import pandas as pd\n",
    "df=pd.DataFrame(data,columns=['Name','Age','Lvl','Gender'])\n",
    "df.transpose()"
   ]
  },
  {
   "cell_type": "code",
   "execution_count": 112,
   "metadata": {},
   "outputs": [
    {
     "data": {
      "text/html": [
       "<div>\n",
       "<style scoped>\n",
       "    .dataframe tbody tr th:only-of-type {\n",
       "        vertical-align: middle;\n",
       "    }\n",
       "\n",
       "    .dataframe tbody tr th {\n",
       "        vertical-align: top;\n",
       "    }\n",
       "\n",
       "    .dataframe thead th {\n",
       "        text-align: right;\n",
       "    }\n",
       "</style>\n",
       "<table border=\"1\" class=\"dataframe\">\n",
       "  <thead>\n",
       "    <tr style=\"text-align: right;\">\n",
       "      <th></th>\n",
       "      <th>0</th>\n",
       "      <th>1</th>\n",
       "      <th>2</th>\n",
       "      <th>3</th>\n",
       "      <th>4</th>\n",
       "      <th>5</th>\n",
       "      <th>6</th>\n",
       "      <th>7</th>\n",
       "      <th>8</th>\n",
       "      <th>9</th>\n",
       "    </tr>\n",
       "  </thead>\n",
       "  <tbody>\n",
       "    <tr>\n",
       "      <th>0</th>\n",
       "      <td>[fel'Sehthilila, 17, 12, Male,Female]</td>\n",
       "      <td>[Corinlon, 27, 11, Male,Female]</td>\n",
       "      <td>[is'Raeratriaana, 15, 32, Male,Female]</td>\n",
       "      <td>[Thernine, 33, 17, Male,Female]</td>\n",
       "      <td>[Lathileath, 31, 8, Male,Female]</td>\n",
       "      <td>[Sumdrimme, 24, 0, Male,Female]</td>\n",
       "      <td>[Thaluthianna, 22, 7, Male,Female]</td>\n",
       "      <td>[Eilali, 19, 2, Male,Female]</td>\n",
       "      <td>[Dulamdar, 16, 84, Male,Female]</td>\n",
       "      <td>[Gaelen, 20, 2, Male,Female]</td>\n",
       "    </tr>\n",
       "  </tbody>\n",
       "</table>\n",
       "</div>"
      ],
      "text/plain": [
       "                                       0                                1  \\\n",
       "0  [fel'Sehthilila, 17, 12, Male,Female]  [Corinlon, 27, 11, Male,Female]   \n",
       "\n",
       "                                        2                                3  \\\n",
       "0  [is'Raeratriaana, 15, 32, Male,Female]  [Thernine, 33, 17, Male,Female]   \n",
       "\n",
       "                                  4                                5  \\\n",
       "0  [Lathileath, 31, 8, Male,Female]  [Sumdrimme, 24, 0, Male,Female]   \n",
       "\n",
       "                                    6                             7  \\\n",
       "0  [Thaluthianna, 22, 7, Male,Female]  [Eilali, 19, 2, Male,Female]   \n",
       "\n",
       "                                 8                             9  \n",
       "0  [Dulamdar, 16, 84, Male,Female]  [Gaelen, 20, 2, Male,Female]  "
      ]
     },
     "execution_count": 112,
     "metadata": {},
     "output_type": "execute_result"
    }
   ],
   "source": [
    "df"
   ]
  }
 ],
 "metadata": {
  "kernelspec": {
   "display_name": "Python 3",
   "language": "python",
   "name": "python3"
  },
  "language_info": {
   "codemirror_mode": {
    "name": "ipython",
    "version": 3
   },
   "file_extension": ".py",
   "mimetype": "text/x-python",
   "name": "python",
   "nbconvert_exporter": "python",
   "pygments_lexer": "ipython3",
   "version": "3.10.5"
  },
  "orig_nbformat": 4
 },
 "nbformat": 4,
 "nbformat_minor": 2
}
