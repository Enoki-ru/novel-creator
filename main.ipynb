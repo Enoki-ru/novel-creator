{
 "cells": [
  {
   "cell_type": "code",
   "execution_count": 61,
   "metadata": {},
   "outputs": [],
   "source": [
    "class person:\n",
    "    \n",
    "    def __init__(self,name):\n",
    "        self.name=name\n",
    "    def std(self):\n",
    "        import random\n",
    "        self.lvl=random.randint(1,15)\n",
    "        self.stats=self.lvl*10\n"
   ]
  },
  {
   "cell_type": "code",
   "execution_count": 62,
   "metadata": {},
   "outputs": [
    {
     "data": {
      "text/plain": [
       "Text(0.5, 1.0, 'Распределение Уровней среди 47988 магов')"
      ]
     },
     "execution_count": 62,
     "metadata": {},
     "output_type": "execute_result"
    },
    {
     "data": {
      "image/png": "[encoded data removed]",
      "text/plain": [
       "<Figure size 640x480 with 1 Axes>"
      ]
     },
     "metadata": {},
     "output_type": "display_data"
    }
   ],
   "source": [
    "def sequence(mas): # Выводит последний элемент списка, находящийся внутри последовательности натуральных чисел, состоящих из уникальных чисел\n",
    "       mas=list(set(mas))\n",
    "       mas.sort()\n",
    "       for i in range(len(mas)):\n",
    "              if i!=mas[i]:\n",
    "                     return mas[i-1]\n",
    "       return i\n",
    "\n",
    "import seaborn as sb\n",
    "import matplotlib.pyplot as plt\n",
    "import numpy as np\n",
    "from scipy.stats import expon\n",
    "\n",
    "global lvls\n",
    "checker=-1\n",
    "# size_rand=10000\n",
    "size_rand=10000\n",
    "while checker<100:\n",
    "       r = expon.rvs(size=size_rand)*12\n",
    "       lvls=list(map(int,r))\n",
    "       checker=sequence(lvls)\n",
    "       size_rand+=500\n",
    "       # print('------')\n",
    "       # print(max(lvls))\n",
    "\n",
    "def minus100(x):\n",
    "       if x<=100:\n",
    "              return True\n",
    "       else:\n",
    "              return False\n",
    "lvls=[i for i in filter(minus100, lvls)]\n",
    "\n",
    "fig, ax = plt.subplots(1, 1)\n",
    "ax.hist(lvls, density=True, bins='auto')\n",
    "plt.title(f'Распределение Уровней среди {len(lvls)} магов')"
   ]
  },
  {
   "cell_type": "code",
   "execution_count": 63,
   "metadata": {},
   "outputs": [
    {
     "name": "stdout",
     "output_type": "stream",
     "text": [
      "heroes in range from 0 to 10: 27101\n",
      "heroes in range from 10 to 20: 11752\n",
      "heroes in range from 20 to 30: 5165\n",
      "heroes in range from 30 to 40: 2263\n",
      "heroes in range from 40 to 50: 962\n",
      "heroes in range from 50 to 60: 397\n",
      "heroes in range from 60 to 70: 215\n",
      "heroes in range from 70 to 80: 75\n",
      "heroes in range from 80 to 90: 43\n",
      "heroes in range from 90 to 100: 14\n"
     ]
    }
   ],
   "source": [
    "def find_n(x,n=2):\n",
    "    if x>=10*(n-1) and x<10*n:\n",
    "        return True\n",
    "    else:\n",
    "        return False\n",
    "for q in range(1,11):\n",
    "    seqs=[i for i in filter(lambda seq: find_n(seq,n=q), lvls)] #lambda нужна чтобы вставить в вызывающуюся фукнцию дополнительную переменную (обычно filter не позволяет это сделать)\n",
    "    print(f\"heroes in range from {10*(q-1)} to {10*(q)}: {len(seqs)}\")"
   ]
  },
  {
   "cell_type": "code",
   "execution_count": 64,
   "metadata": {},
   "outputs": [],
   "source": [
    "def GeneratorPersons(nums=1,stage=-1):\n",
    "    import random\n",
    "    from pynames import GENDER, LANGUAGE\n",
    "    from pynames.generators.elven import DnDNamesGenerator\n",
    "    elven_generator = DnDNamesGenerator()   \n",
    "    genders=['Male,Female']\n",
    "    for c in range(nums):\n",
    "        #GENDER\n",
    "        gender=random.choice(genders)\n",
    "        #NAME\n",
    "        if gender=='Male':\n",
    "            name=elven_generator.get_name_simple(GENDER.MALE)\n",
    "        else:\n",
    "            name=elven_generator.get_name_simple(GENDER.FEMALE)\n",
    "        #LVL\n",
    "        lvl=random.choice(lvls)\n"
   ]
  }
 ],
 "metadata": {
  "kernelspec": {
   "display_name": "Python 3",
   "language": "python",
   "name": "python3"
  },
  "language_info": {
   "codemirror_mode": {
    "name": "ipython",
    "version": 3
   },
   "file_extension": ".py",
   "mimetype": "text/x-python",
   "name": "python",
   "nbconvert_exporter": "python",
   "pygments_lexer": "ipython3",
   "version": "3.10.5"
  },
  "orig_nbformat": 4
 },
 "nbformat": 4,
 "nbformat_minor": 2
}
